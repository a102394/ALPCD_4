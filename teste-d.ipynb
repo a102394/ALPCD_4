{
 "cells": [
  {
   "cell_type": "code",
   "execution_count": 3,
   "metadata": {},
   "outputs": [
    {
     "name": "stdout",
     "output_type": "stream",
     "text": [
      "Dados extraídos:\n",
      "{'title': 'Free Weather API | Visual Crossing', 'links': ['/', '/weather-data', '/weather-api', '/weather/weather-data-services', '/weather-data-editions', '/resources/documentation/weather-api/timeline-weather-api/', '#', '/solar-energy', '/agriculture-weather-data', '/resources/documentation/weather-data/free-weather-tools-and-dashboards/', '/resources/', '/microstrategy', '/about', '/sign-up', '/resources/documentation/weather-api/timeline-weather-api/', '/sign-up', '/resources/documentation/weather-data/where-can-you-find-high-quality-historical-weather-data-at-a-low-cost/', '/resources/documentation/how-do-we-create-our-weather-forecast/', '/resources/documentation/weather-data/how-to-query-weather-forecasts-from-the-past-historical-forecasts/', '/resources/documentation/weather-data/how-to-use-historical-weather-data-to-forecast-the-weather-for-any-day-of-the-year/', '/resources/documentation/weather-data/weather-data-documentation/', '/resources/documentation/weather-data/weather-data-documentation/', 'https://www.visualcrossing.com/solar-energy', 'https://www.visualcrossing.com/agriculture-weather-data', '/resources/documentation/weather-api/energy-elements-in-the-timeline-weather-api/', '/resources/documentation/weather-data/how-to-find-historical-weather-for-maritime-sea-and-ocean-locations/', '/resources/documentation/weather-api/air-quality-elements-in-the-weather-api/', '/resources/documentation/weather-api/degree-day-weather-api/', '/resources/documentation/weather-api/how-to-include-sunrise-sunset-and-moon-phase-data-into-your-api-requests', '/resources/documentation/weather-data/weather-alerts/', '/resources/documentation/weather-api/timeline-weather-api/', '/sign-up', '/weather/weather-data-services', '/weather-data-editions', '#', '#', '/weather-data-editions', '/weather-data-editions', '/weather-data-editions', '/weather-data-editions', '/weather-data-editions', '/weather-data-editions', '/weather-data-editions', '/resources/documentation/weather-api/timeline-weather-api/', 'https://www.visualcrossing.com/weather/weather-data-services', '/weather-data-editions', '/sign-up', '/resources/blog/how-to-replace-the-dark-sky-api-using-the-visual-crossing-timeline-weather-api/', '/resources/blog/replacing-the-google-weather-api/', '/resources/blog/replacing-the-yahoo-weather-api/', '/resources/blog/replacing-the-weather-underground-api/', '/resources/blog/replacing-the-openweathermap-api-with-visual-crossing-weather/', '/resources/documentation/weather-api/how-to-load-weather-data-in-javascript/', 'https://enable-cors.org/', '/resources/documentation/weather-api/how-to-fetch-weather-forecast-data-from-a-restful-web-service-in-java/', '/resources/documentation/weather-api/how-to-load-weather-data-using-googles-go-language/', '/resources/documentation/weather-api/how-to-load-weather-data-using-vb-net/', '/resources/documentation/weather-api/how-to-load-weather-data-in-c/', '/resources/blog/how-to-load-historical-weather-data-using-python-without-scraping/', '/resources/documentation/weather-api/timeline-weather-api/', '/resources/documentation/weather-api/timeline-weather-api/', '/resources/documentation/weather-data-tutorials/how-can-i-find-historical-weather-data-for-analysis-in-r/', '/resources/documentation/weather-api/how-to-load-weather-data-in-matlab/', '/resources/documentation/weather-data-tutorials/how-to-download-weather-forecast-data-as-a-microsoft-excel-workbook/', '/resources/documentation/weather-api/importing-data-from-a-json-weather-api-into-microsoft-excel-using-power-query/', '/weather/weather-data-services', '/resources/blog/how-to-find-weather-data-for-data-science/', '/resources/documentation/weather-data-tutorials/how-can-i-load-historical-weather-data-into-microsoft-power-bi/', '/resources/blog/using-weather-data-in-business-intelligence-part-1/', '/resources/documentation/weather-data-for-excel-and-google-sheets/how-to-load-weather-data-into-google-sheets-using-json/', '/resources/documentation/weather-data-tutorials/how-to-load-historical-weather-data-into-any-database/', '/resources/documentation/weather-api/timeline-weather-api/', '/resources/documentation/weather-data/frequently-asked-questions-faq-for-visual-crossing-weather-data/', '/resources/documentation/weather-data/how-to-sign-up-for-a-weather-data-weather-api-account/', '/resources/documentation/weather-data/getting-started-with-weather-data-services/', '/resources/documentation/weather-api/how-do-i-get-started-with-the-weather-api/', '/resources/documentation/weather-data-tutorials/how-can-i-download-weather-forecast-data-as-a-csv-file/', '/resources/documentation/weather-data-tutorials/how-can-i-download-weather-history-data-as-a-csv-file/', '/resources/documentation/weather-api/timeline-weather-api/', '/resources/documentation/weather-api/energy-elements-in-the-timeline-weather-api/', '/resources/documentation/weather-api/agriculture-elements-in-the-timeline-weather-api/', '/resources/documentation/weather-data/how-to-query-weather-forecasts-from-the-past-historical-forecasts/', '/resources/documentation/weather-api/weather-api-documentation/#historysummary', '/resources/documentation/weather-data/weather-data-documentation/', '/resources/documentation/weather-api/weather-api-json-result-structure/', '/resources/documentation/weather-api/date-and-times-in-the-weather-api/', '/resources/documentation/weather-api/how-to-include-sunrise-sunset-and-moon-phase-data-into-your-api-requests/', '/resources/documentation/weather-api/how-to-replace-the-dark-sky-api/', '/resources/blog/replacing-the-google-weather-api/', '/resources/blog/replacing-the-yahoo-weather-api/', '/resources/blog/replacing-the-weather-underground-api/', '/resources/blog/replacing-the-openweathermap-api-with-visual-crossing-weather/', '/resources/blog/weather-excel-workbooks/', '/resources/blog/multi-site-weather-forecast-excel-workbook/', '/resources/documentation/weather-data-for-excel-and-google-sheets/how-to-automatically-refresh-weather-data-in-microsoft-excel/', '/resources/documentation/weather-data-for-excel-and-google-sheets/parameter-based-web-queries-in-excel/', '/resources/blog/weather-alerts-for-excel/', '/resources/documentation/weather-data-for-excel-and-google-sheets/getting-started-with-weather-add-in-for-microsoft-excel/', '/resources/documentation/weather-api/how-to-load-weather-data-into-microsoft-excel-using-a-web-query-data-connection/', '/resources/blog/degree-day-calculator/', '/resources/documentation/weather-data/weather-alerts/', '/resources/documentation/weather-data/how-to-create-annual-or-monthly-climate-summaries-and-normals-for-a-location/', '/resources/documentation/weather-data/how-to-use-historical-weather-data-to-forecast-the-weather-for-any-day-of-the-year/', '/resources/documentation/weather-data/how-historical-weather-data-records-are-created-from-local-weather-station-observations/', '/resources/documentation/weather-data/available-data-for-visual-crossing-weather-updated-january-2020/', '/resources/documentation/how-do-we-create-our-weather-forecast/', '/resources/blog/how-we-process-integrated-surface-database-historical-weather-data/', '/resources/blog/how-to-load-historical-weather-data-using-python-without-scraping/', '/resources/documentation/weather-api/how-do-i-retrieve-weather-data-using-an-odata-request/', '/resources/documentation/weather-data-tutorials/how-can-i-find-weather-forecast-data-for-analysis-in-r/', '/resources/documentation/weather-data-tutorials/how-can-i-find-historical-weather-data-for-analysis-in-r/', '/resources/documentation/weather-api/how-to-fetch-weather-forecast-data-from-a-restful-web-service-in-java/', '/resources/documentation/weather-api/how-to-load-weather-data-in-javascript/', '/resources/documentation/weather-api/how-to-load-weather-data-in-php/', '/resources/blog/how-do-i-add-weather-forecast-to-my-webpage/', '/resources/documentation/weather-api/how-to-make-a-wordpress-plugin-that-uses-shortcodes-to-show-the-weather-forecast/', '/weather-widgets', '/resources/documentation/weather-data-tutorials/how-can-i-load-weather-forecast-data-into-microsoft-power-bi/', '/resources/documentation/weather-api/automate-recent-weather-history-data-retrieval-using-microsoft-power-query/', '/resources/documentation/weather-data-tutorials/how-can-i-load-historical-weather-data-into-microsoft-power-bi/', '/resources/documentation/weather-data-tutorials/how-do-i-load-weather-forecast-data-into-tableau-desktop/', '/resources/documentation/weather-data-tutorials/how-can-i-load-historical-weather-data-into-google-sheets/', '/resources/documentation/weather-data-tutorials/how-can-i-load-weather-forecast-data-into-google-sheets/', '/resources/documentation/weather-api/how-can-i-load-historical-weather-data-using-google-apps-script/', '/weather-data', '/weather-api', '/excel-weather', '/about', 'https://support.visualcrossing.com', '/resources/', '/sign-up', '/account', 'mailto:sales@visualcrossing.com', 'mailto:support@visualcrossing.com', 'https://www.facebook.com/visualcrossing/', 'https://www.twitter.com/visualcrossing', 'https://www.linkedin.com/company/visual-crossing', '/weather-services-terms', '/privacy', 'https://www.visualcrossing.com', '#top']}\n"
     ]
    }
   ],
   "source": [
    "import requests\n",
    "from bs4 import BeautifulSoup\n",
    "\n",
    "def extract_weather_data(url):\n",
    "    try:\n",
    "        # Enviar requisição GET para a URL\n",
    "        response = requests.get(url)\n",
    "        response.raise_for_status()  # Lança um erro para status HTTP ruim\n",
    "\n",
    "        # Verificar o tipo de conteúdo da resposta\n",
    "        content_type = response.headers.get('Content-Type', '')\n",
    "\n",
    "        if 'text/html' in content_type:\n",
    "            # Processar conteúdo HTML\n",
    "            soup = BeautifulSoup(response.text, 'html.parser')\n",
    "\n",
    "            # Extração básica: título da página\n",
    "            title = soup.title.string if soup.title else 'Sem título'\n",
    "\n",
    "            # Extração de links\n",
    "            links = [a['href'] for a in soup.find_all('a', href=True)]\n",
    "\n",
    "            return {\n",
    "                'title': title,\n",
    "                'links': links,\n",
    "            }\n",
    "\n",
    "        elif 'application/json' in content_type:\n",
    "            # Processar resposta JSON\n",
    "            data = response.json()\n",
    "            return data\n",
    "\n",
    "        else:\n",
    "            return {'error': 'Tipo de conteúdo não suportado: ' + content_type}\n",
    "\n",
    "    except requests.exceptions.RequestException as e:\n",
    "        return {'error': str(e)}\n",
    "\n",
    "# URL para acessar\n",
    "def main():\n",
    "    url = \"https://www.visualcrossing.com/weather-api\"\n",
    "    result = extract_weather_data(url)\n",
    "\n",
    "    if 'error' in result:\n",
    "        print(\"Erro ao acessar a URL:\", result['error'])\n",
    "    else:\n",
    "        print(\"Dados extraídos:\")\n",
    "        print(result)\n",
    "\n",
    "if __name__ == \"__main__\":\n",
    "    main()\n"
   ]
  }
 ],
 "metadata": {
  "kernelspec": {
   "display_name": "prof1",
   "language": "python",
   "name": "python3"
  },
  "language_info": {
   "codemirror_mode": {
    "name": "ipython",
    "version": 3
   },
   "file_extension": ".py",
   "mimetype": "text/x-python",
   "name": "python",
   "nbconvert_exporter": "python",
   "pygments_lexer": "ipython3",
   "version": "3.9.12"
  }
 },
 "nbformat": 4,
 "nbformat_minor": 2
}
